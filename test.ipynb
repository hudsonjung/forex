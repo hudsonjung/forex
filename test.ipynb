{
 "cells": [
  {
   "cell_type": "code",
   "execution_count": 2,
   "metadata": {
    "collapsed": true
   },
   "outputs": [],
   "source": [
    "import tensorflow as tf\n",
    "import pandas as pd\n",
    "import numpy as np\n",
    "from datetime import datetime, timedelta\n",
    "import matplotlib.pyplot as plt"
   ]
  },
  {
   "cell_type": "code",
   "execution_count": 3,
   "metadata": {
    "collapsed": true
   },
   "outputs": [],
   "source": [
    "%matplotlib inline "
   ]
  },
  {
   "cell_type": "code",
   "execution_count": 4,
   "metadata": {
    "collapsed": true
   },
   "outputs": [],
   "source": [
    "def load_data(fname):\n",
    "\tdf = pd.read_csv(fname)\n",
    "\treturn df"
   ]
  },
  {
   "cell_type": "code",
   "execution_count": 5,
   "metadata": {
    "collapsed": true
   },
   "outputs": [],
   "source": [
    "def data_preprocessing(df):\n",
    "\tstart = datetime(2001, 1, 1, 0, 0, 0)\n",
    "\tend = datetime(2001, 1, 1, 23, 0, 0)\n",
    "\ttime_list = []\n",
    "\twhile start < end:\n",
    "\t\ttime_list.append([start.strftime(\"%H:%M:%S.%f\")[:-4].replace('.',':'), 0])\n",
    "\t\tstart = start + timedelta(seconds=0.01)\n",
    "\n",
    "\tdf_index = pd.DataFrame(time_list)\n",
    "\tdf_index.columns = ['time', 'blank']\n",
    "\tdf_index = df_index.set_index('time')\n",
    "\tprint(df_index)\n",
    "\n",
    "\tdf.columns = ['date', 'time', 'kind', 'r1', 'r2']\n",
    "\tdf = df.drop('date', 1)\n",
    "\tdf = df.set_index('time')\n",
    "\tdf1 = df.loc[df['kind']=='USD/JPY']\n",
    "\tdf2 = df.loc[df['kind']=='EUR/JPY']\n",
    "\tdf3 = df.loc[df['kind']=='EUR/USD']\n",
    "\tdf1.columns = ['kind', 'UJ1', 'UJ2']\n",
    "\tdf2.columns = ['kind', 'EJ1', 'EJ2']\n",
    "\tdf3.columns = ['kind', 'EU1', 'EU2']\n",
    "\tdf1 = df1.drop('kind', 1)\n",
    "\tdf2 = df2.drop('kind', 1)\n",
    "\tdf3 = df3.drop('kind', 1)\n",
    "\tdf4 = pd.concat([df_index, df1, df2, df3], axis=1)\n",
    "\tdf4 = df4.drop('blank', 1)\n",
    "\tdf4 = df4.interpolate()\n",
    "\tdf4 = df4.fillna(method='pad')\n",
    "\tdf4 = df4.dropna()\n",
    "\treturn df4"
   ]
  },
  {
   "cell_type": "code",
   "execution_count": null,
   "metadata": {
    "collapsed": true
   },
   "outputs": [],
   "source": [
    "fname = \"FOREX_0to23.csv\"\n",
    "data = load_data(fname)\n",
    "data = data_preprocessing(data)"
   ]
  },
  {
   "cell_type": "code",
   "execution_count": 25,
   "metadata": {
    "collapsed": true
   },
   "outputs": [],
   "source": [
    "data['inv_ej1'] = 1/data.loc[:,'EJ1']"
   ]
  },
  {
   "cell_type": "code",
   "execution_count": 23,
   "metadata": {
    "collapsed": true
   },
   "outputs": [],
   "source": [
    "data['n1'] = data.loc[:,'UJ1'] * (1/data.loc[:,'EJ1']) * data.loc[:,'EU1']"
   ]
  },
  {
   "cell_type": "code",
   "execution_count": 32,
   "metadata": {
    "collapsed": false
   },
   "outputs": [
    {
     "data": {
      "text/plain": [
       "array([ 0.99996554,  0.99997474,  0.99997474, ...,  1.00001012,\n",
       "        1.00001012,  1.00001012])"
      ]
     },
     "execution_count": 32,
     "metadata": {},
     "output_type": "execute_result"
    }
   ],
   "source": [
    "data['n1'].values"
   ]
  },
  {
   "cell_type": "code",
   "execution_count": null,
   "metadata": {
    "collapsed": true
   },
   "outputs": [],
   "source": [
    "plt.plot(range(len(data)), data[['UJ1','UJ2']])"
   ]
  },
  {
   "cell_type": "code",
   "execution_count": null,
   "metadata": {
    "collapsed": true
   },
   "outputs": [],
   "source": [
    "plt.plot(range(len(data)), data[['EJ1','EJ2']])"
   ]
  },
  {
   "cell_type": "code",
   "execution_count": null,
   "metadata": {
    "collapsed": true
   },
   "outputs": [],
   "source": [
    "plt.plot(range(len(data)), data[['EU1','EU2']])"
   ]
  },
  {
   "cell_type": "code",
   "execution_count": null,
   "metadata": {
    "collapsed": true
   },
   "outputs": [],
   "source": []
  }
 ],
 "metadata": {
  "kernelspec": {
   "display_name": "Python 2",
   "language": "python",
   "name": "python2"
  },
  "language_info": {
   "codemirror_mode": {
    "name": "ipython",
    "version": 2
   },
   "file_extension": ".py",
   "mimetype": "text/x-python",
   "name": "python",
   "nbconvert_exporter": "python",
   "pygments_lexer": "ipython2",
   "version": "2.7.13"
  }
 },
 "nbformat": 4,
 "nbformat_minor": 2
}
